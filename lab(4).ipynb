{
 "cells": [
  {
   "cell_type": "code",
   "execution_count": 2,
   "metadata": {},
   "outputs": [
    {
     "name": "stdout",
     "output_type": "stream",
     "text": [
      "Select a role:\n",
      "1. Doctor\n",
      "2. Nurse\n",
      "\n",
      "Valid Medical Professional Information:\n",
      "Name: Rehaan\n",
      "Specialization: Cardiologist\n",
      "Degree: MBBS\n"
     ]
    }
   ],
   "source": [
    "# My domain - Medical Sector\n",
    "\n",
    "class MedicalProfessional:\n",
    "    def __init__(self, name, specialization):\n",
    "        self.name = name\n",
    "        self.specialization = specialization\n",
    "    \n",
    "    def display_info(self):\n",
    "        print(f\"Name: {self.name}\\nSpecialization: {self.specialization}\")\n",
    "\n",
    "class Doctor(MedicalProfessional):\n",
    "    def __init__(self, name, specialization, degree):\n",
    "        super().__init__(name, specialization)\n",
    "        self.degree = degree\n",
    "    \n",
    "    def display_info(self):\n",
    "        super().display_info()\n",
    "        print(f\"Degree: {self.degree}\")\n",
    "\n",
    "class Nurse(MedicalProfessional):\n",
    "    def __init__(self, name, specialization, experience_years):\n",
    "        super().__init__(name, specialization)\n",
    "        self.experience_years = experience_years\n",
    "    \n",
    "    def display_info(self):\n",
    "        super().display_info()\n",
    "        print(f\"Experience (years): {self.experience_years}\")\n",
    "\n",
    "class Surgeon(Doctor):\n",
    "    def __init__(self, name, specialization, degree, surgical_experience):\n",
    "        super().__init__(name, specialization, degree)\n",
    "        self.surgical_experience = surgical_experience\n",
    "    \n",
    "    def display_info(self):\n",
    "        super().display_info()\n",
    "        print(f\"Surgical Experience (years): {self.surgical_experience}\")\n",
    "\n",
    "class Pediatrician(Doctor):\n",
    "    def __init__(self, name, degree, child_experience):\n",
    "        super().__init__(name, \"Pediatrics\", degree)\n",
    "        self.child_experience = child_experience\n",
    "    \n",
    "    def display_info(self):\n",
    "        super().display_info()\n",
    "        print(f\"Child Experience (years): {self.child_experience}\")\n",
    "\n",
    "# Get user input to create instances of medical professionals\n",
    "name = input(\"Enter the name: \")\n",
    "specialization = input(\"Enter the specialization: \")\n",
    "\n",
    "print(\"Select a role:\")\n",
    "print(\"1. Doctor\")\n",
    "print(\"2. Nurse\")\n",
    "role_choice = int(input(\"Enter your choice (1 or 2): \"))\n",
    "\n",
    "if role_choice == 1:\n",
    "    degree = input(\"Enter the degree: \")\n",
    "    medical_professional = Doctor(name, specialization, degree)\n",
    "elif role_choice == 2:\n",
    "    experience_years = int(input(\"Enter experience (years): \"))\n",
    "    medical_professional = Nurse(name, specialization, experience_years)\n",
    "else:\n",
    "    print(\"Invalid choice\")\n",
    "\n",
    "# Display the information of the created medical professional\n",
    "if hasattr(medical_professional, 'display_info'):\n",
    "    print(\"\\nValid Medical Professional Information:\")\n",
    "    medical_professional.display_info()\n",
    "else:\n",
    "    print(\"\\nInvalid medical professional role.\")"
   ]
  }
 ],
 "metadata": {
  "kernelspec": {
   "display_name": "Python 3",
   "language": "python",
   "name": "python3"
  },
  "language_info": {
   "codemirror_mode": {
    "name": "ipython",
    "version": 3
   },
   "file_extension": ".py",
   "mimetype": "text/x-python",
   "name": "python",
   "nbconvert_exporter": "python",
   "pygments_lexer": "ipython3",
   "version": "3.11.4"
  },
  "orig_nbformat": 4
 },
 "nbformat": 4,
 "nbformat_minor": 2
}
